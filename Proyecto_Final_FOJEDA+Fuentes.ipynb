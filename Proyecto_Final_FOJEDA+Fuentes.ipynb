{
 "cells": [
  {
   "cell_type": "markdown",
   "metadata": {},
   "source": [
    "# Enlace a la Presentación en .pdf: https://drive.google.com/file/d/1MXOm3u4n_xyLIH5VGkYPNKQHvvxIJ2pX/view?usp=sharing"
   ]
  },
  {
   "cell_type": "markdown",
   "metadata": {},
   "source": [
    "# Enlace al Dashboard en Tableau Public: https://public.tableau.com/app/profile/fernando.ojeda/viz/Proyecto_Final_FOJEDA_Dashboard/DashboardFinal?publish=yes"
   ]
  },
  {
   "cell_type": "markdown",
   "metadata": {},
   "source": [
    "# Proyecto Final de Data Analytics\n",
    "\n",
    "El servicio de telefonía virtual CallMeMaybe está desarrollando una nueva función que brindará a los supervisores y las supervisores información sobre los operadores menos eficaces. Se considera que un operador es ineficaz si tiene una gran cantidad de llamadas entrantes perdidas (internas y externas) y un tiempo de espera prolongado para las llamadas entrantes. Además, si se supone que un operador debe realizar llamadas salientes, un número reducido de ellas también será un signo de ineficacia.\n",
    "\n",
    "- Lleva a cabo el análisis exploratorio de datos\n",
    "- Identificar operadores ineficaces\n",
    "- Prueba las hipótesis estadísticas"
   ]
  },
  {
   "cell_type": "markdown",
   "metadata": {},
   "source": [
    "# Descripción de los datos\n",
    "\n",
    "Los datasets contienen información sobre el uso del servicio de telefonía virtual CallMeMaybe. Sus clientes son organizaciones que necesitan distribuir gran cantidad de llamadas entrantes entre varios operadores, o realizar llamadas salientes a través de sus operadores. Los operadores también pueden realizar llamadas internas para comunicarse entre ellos. Estas llamadas se realizan a través de la red de CallMeMaybe.\n",
    "\n",
    "El dataset comprimido `telecom_dataset_us.csv` contiene las siguientes columnas:\n",
    "\n",
    "- `user_id`: ID de la cuenta de cliente\n",
    "- `date`: fecha en la que se recuperaron las estadísticas\n",
    "- `direction`: \"dirección\" de llamada (`out` para saliente, `in` para entrante)\n",
    "- `internal`: si la llamada fue interna (entre los operadores de un cliente o clienta)\n",
    "- `operator_id`: identificador del operador\n",
    "- `is_missed_call`: si fue una llamada perdida\n",
    "- `calls_count`: número de llamadas\n",
    "- `call_duration`: duración de la llamada (sin incluir el tiempo de espera)\n",
    "- `total_call_duration`: duración de la llamada (incluido el tiempo de espera)\n",
    "\n",
    " \n",
    "\n",
    "El conjunto de datos `telecom_clients_us.csv` tiene las siguientes columnas:\n",
    "\n",
    "- `user_id`: ID de usuario/a\n",
    "- `tariff_plan`: tarifa actual de la clientela\n",
    "- `date_start`: fecha de registro de la clientela"
   ]
  },
  {
   "cell_type": "markdown",
   "metadata": {},
   "source": [
    "## Paso 1. Importación de librerías y carga de dataset."
   ]
  },
  {
   "cell_type": "code",
   "execution_count": 1,
   "metadata": {},
   "outputs": [],
   "source": [
    "import pandas as pd\n",
    "import matplotlib.pyplot as plt\n",
    "from scipy.stats import pearsonr, ttest_ind"
   ]
  },
  {
   "cell_type": "code",
   "execution_count": 2,
   "metadata": {},
   "outputs": [],
   "source": [
    "# Cargar los datasets\n",
    "\n",
    "clients_df = pd.read_csv('/datasets/telecom_clients_us.csv')\n",
    "telecom_df = pd.read_csv('/datasets/telecom_dataset_us.csv')"
   ]
  },
  {
   "cell_type": "markdown",
   "metadata": {},
   "source": [
    "## Paso 2. Llevar a cabo el análisis exploratorio de datos (EDA)"
   ]
  },
  {
   "cell_type": "code",
   "execution_count": 3,
   "metadata": {},
   "outputs": [
    {
     "data": {
      "text/html": [
       "<div>\n",
       "<style scoped>\n",
       "    .dataframe tbody tr th:only-of-type {\n",
       "        vertical-align: middle;\n",
       "    }\n",
       "\n",
       "    .dataframe tbody tr th {\n",
       "        vertical-align: top;\n",
       "    }\n",
       "\n",
       "    .dataframe thead th {\n",
       "        text-align: right;\n",
       "    }\n",
       "</style>\n",
       "<table border=\"1\" class=\"dataframe\">\n",
       "  <thead>\n",
       "    <tr style=\"text-align: right;\">\n",
       "      <th></th>\n",
       "      <th>user_id</th>\n",
       "      <th>tariff_plan</th>\n",
       "      <th>date_start</th>\n",
       "    </tr>\n",
       "  </thead>\n",
       "  <tbody>\n",
       "    <tr>\n",
       "      <th>0</th>\n",
       "      <td>166713</td>\n",
       "      <td>A</td>\n",
       "      <td>2019-08-15</td>\n",
       "    </tr>\n",
       "    <tr>\n",
       "      <th>1</th>\n",
       "      <td>166901</td>\n",
       "      <td>A</td>\n",
       "      <td>2019-08-23</td>\n",
       "    </tr>\n",
       "    <tr>\n",
       "      <th>2</th>\n",
       "      <td>168527</td>\n",
       "      <td>A</td>\n",
       "      <td>2019-10-29</td>\n",
       "    </tr>\n",
       "    <tr>\n",
       "      <th>3</th>\n",
       "      <td>167097</td>\n",
       "      <td>A</td>\n",
       "      <td>2019-09-01</td>\n",
       "    </tr>\n",
       "    <tr>\n",
       "      <th>4</th>\n",
       "      <td>168193</td>\n",
       "      <td>A</td>\n",
       "      <td>2019-10-16</td>\n",
       "    </tr>\n",
       "  </tbody>\n",
       "</table>\n",
       "</div>"
      ],
      "text/plain": [
       "   user_id tariff_plan  date_start\n",
       "0   166713           A  2019-08-15\n",
       "1   166901           A  2019-08-23\n",
       "2   168527           A  2019-10-29\n",
       "3   167097           A  2019-09-01\n",
       "4   168193           A  2019-10-16"
      ]
     },
     "metadata": {},
     "output_type": "display_data"
    },
    {
     "data": {
      "text/html": [
       "<div>\n",
       "<style scoped>\n",
       "    .dataframe tbody tr th:only-of-type {\n",
       "        vertical-align: middle;\n",
       "    }\n",
       "\n",
       "    .dataframe tbody tr th {\n",
       "        vertical-align: top;\n",
       "    }\n",
       "\n",
       "    .dataframe thead th {\n",
       "        text-align: right;\n",
       "    }\n",
       "</style>\n",
       "<table border=\"1\" class=\"dataframe\">\n",
       "  <thead>\n",
       "    <tr style=\"text-align: right;\">\n",
       "      <th></th>\n",
       "      <th>user_id</th>\n",
       "      <th>date</th>\n",
       "      <th>direction</th>\n",
       "      <th>internal</th>\n",
       "      <th>operator_id</th>\n",
       "      <th>is_missed_call</th>\n",
       "      <th>calls_count</th>\n",
       "      <th>call_duration</th>\n",
       "      <th>total_call_duration</th>\n",
       "    </tr>\n",
       "  </thead>\n",
       "  <tbody>\n",
       "    <tr>\n",
       "      <th>0</th>\n",
       "      <td>166377</td>\n",
       "      <td>2019-08-04 00:00:00+03:00</td>\n",
       "      <td>in</td>\n",
       "      <td>False</td>\n",
       "      <td>NaN</td>\n",
       "      <td>True</td>\n",
       "      <td>2</td>\n",
       "      <td>0</td>\n",
       "      <td>4</td>\n",
       "    </tr>\n",
       "    <tr>\n",
       "      <th>1</th>\n",
       "      <td>166377</td>\n",
       "      <td>2019-08-05 00:00:00+03:00</td>\n",
       "      <td>out</td>\n",
       "      <td>True</td>\n",
       "      <td>880022.0</td>\n",
       "      <td>True</td>\n",
       "      <td>3</td>\n",
       "      <td>0</td>\n",
       "      <td>5</td>\n",
       "    </tr>\n",
       "    <tr>\n",
       "      <th>2</th>\n",
       "      <td>166377</td>\n",
       "      <td>2019-08-05 00:00:00+03:00</td>\n",
       "      <td>out</td>\n",
       "      <td>True</td>\n",
       "      <td>880020.0</td>\n",
       "      <td>True</td>\n",
       "      <td>1</td>\n",
       "      <td>0</td>\n",
       "      <td>1</td>\n",
       "    </tr>\n",
       "    <tr>\n",
       "      <th>3</th>\n",
       "      <td>166377</td>\n",
       "      <td>2019-08-05 00:00:00+03:00</td>\n",
       "      <td>out</td>\n",
       "      <td>True</td>\n",
       "      <td>880020.0</td>\n",
       "      <td>False</td>\n",
       "      <td>1</td>\n",
       "      <td>10</td>\n",
       "      <td>18</td>\n",
       "    </tr>\n",
       "    <tr>\n",
       "      <th>4</th>\n",
       "      <td>166377</td>\n",
       "      <td>2019-08-05 00:00:00+03:00</td>\n",
       "      <td>out</td>\n",
       "      <td>False</td>\n",
       "      <td>880022.0</td>\n",
       "      <td>True</td>\n",
       "      <td>3</td>\n",
       "      <td>0</td>\n",
       "      <td>25</td>\n",
       "    </tr>\n",
       "  </tbody>\n",
       "</table>\n",
       "</div>"
      ],
      "text/plain": [
       "   user_id                       date direction internal  operator_id  \\\n",
       "0   166377  2019-08-04 00:00:00+03:00        in    False          NaN   \n",
       "1   166377  2019-08-05 00:00:00+03:00       out     True     880022.0   \n",
       "2   166377  2019-08-05 00:00:00+03:00       out     True     880020.0   \n",
       "3   166377  2019-08-05 00:00:00+03:00       out     True     880020.0   \n",
       "4   166377  2019-08-05 00:00:00+03:00       out    False     880022.0   \n",
       "\n",
       "   is_missed_call  calls_count  call_duration  total_call_duration  \n",
       "0            True            2              0                    4  \n",
       "1            True            3              0                    5  \n",
       "2            True            1              0                    1  \n",
       "3           False            1             10                   18  \n",
       "4            True            3              0                   25  "
      ]
     },
     "metadata": {},
     "output_type": "display_data"
    }
   ],
   "source": [
    "# Mostrar las primeras filas de los datasets\n",
    "\n",
    "display(clients_df.head(), telecom_df.head())"
   ]
  },
  {
   "cell_type": "markdown",
   "metadata": {},
   "source": [
    "### Observar el dataset, ¿contiene valores ausentes? ¿Existen valores duplicados o tipos de datos incorrectos?"
   ]
  },
  {
   "cell_type": "code",
   "execution_count": 4,
   "metadata": {},
   "outputs": [
    {
     "name": "stdout",
     "output_type": "stream",
     "text": [
      "<class 'pandas.core.frame.DataFrame'>\n",
      "RangeIndex: 732 entries, 0 to 731\n",
      "Data columns (total 3 columns):\n",
      " #   Column       Non-Null Count  Dtype \n",
      "---  ------       --------------  ----- \n",
      " 0   user_id      732 non-null    int64 \n",
      " 1   tariff_plan  732 non-null    object\n",
      " 2   date_start   732 non-null    object\n",
      "dtypes: int64(1), object(2)\n",
      "memory usage: 17.3+ KB\n",
      "<class 'pandas.core.frame.DataFrame'>\n",
      "RangeIndex: 53902 entries, 0 to 53901\n",
      "Data columns (total 9 columns):\n",
      " #   Column               Non-Null Count  Dtype  \n",
      "---  ------               --------------  -----  \n",
      " 0   user_id              53902 non-null  int64  \n",
      " 1   date                 53902 non-null  object \n",
      " 2   direction            53902 non-null  object \n",
      " 3   internal             53785 non-null  object \n",
      " 4   operator_id          45730 non-null  float64\n",
      " 5   is_missed_call       53902 non-null  bool   \n",
      " 6   calls_count          53902 non-null  int64  \n",
      " 7   call_duration        53902 non-null  int64  \n",
      " 8   total_call_duration  53902 non-null  int64  \n",
      "dtypes: bool(1), float64(1), int64(4), object(3)\n",
      "memory usage: 3.3+ MB\n"
     ]
    },
    {
     "data": {
      "text/plain": [
       "None"
      ]
     },
     "metadata": {},
     "output_type": "display_data"
    },
    {
     "data": {
      "text/plain": [
       "user_id                   0\n",
       "date                      0\n",
       "direction                 0\n",
       "internal                117\n",
       "operator_id            8172\n",
       "is_missed_call            0\n",
       "calls_count               0\n",
       "call_duration             0\n",
       "total_call_duration       0\n",
       "dtype: int64"
      ]
     },
     "metadata": {},
     "output_type": "display_data"
    },
    {
     "data": {
      "text/html": [
       "<div>\n",
       "<style scoped>\n",
       "    .dataframe tbody tr th:only-of-type {\n",
       "        vertical-align: middle;\n",
       "    }\n",
       "\n",
       "    .dataframe tbody tr th {\n",
       "        vertical-align: top;\n",
       "    }\n",
       "\n",
       "    .dataframe thead th {\n",
       "        text-align: right;\n",
       "    }\n",
       "</style>\n",
       "<table border=\"1\" class=\"dataframe\">\n",
       "  <thead>\n",
       "    <tr style=\"text-align: right;\">\n",
       "      <th></th>\n",
       "      <th>user_id</th>\n",
       "      <th>date</th>\n",
       "      <th>direction</th>\n",
       "      <th>internal</th>\n",
       "      <th>operator_id</th>\n",
       "      <th>is_missed_call</th>\n",
       "      <th>calls_count</th>\n",
       "      <th>call_duration</th>\n",
       "      <th>total_call_duration</th>\n",
       "    </tr>\n",
       "  </thead>\n",
       "  <tbody>\n",
       "    <tr>\n",
       "      <th>count</th>\n",
       "      <td>53902.000000</td>\n",
       "      <td>53902</td>\n",
       "      <td>53902</td>\n",
       "      <td>53785</td>\n",
       "      <td>45730.000000</td>\n",
       "      <td>53902</td>\n",
       "      <td>53902.000000</td>\n",
       "      <td>53902.000000</td>\n",
       "      <td>53902.000000</td>\n",
       "    </tr>\n",
       "    <tr>\n",
       "      <th>unique</th>\n",
       "      <td>NaN</td>\n",
       "      <td>119</td>\n",
       "      <td>2</td>\n",
       "      <td>2</td>\n",
       "      <td>NaN</td>\n",
       "      <td>2</td>\n",
       "      <td>NaN</td>\n",
       "      <td>NaN</td>\n",
       "      <td>NaN</td>\n",
       "    </tr>\n",
       "    <tr>\n",
       "      <th>top</th>\n",
       "      <td>NaN</td>\n",
       "      <td>2019-11-25 00:00:00+03:00</td>\n",
       "      <td>out</td>\n",
       "      <td>False</td>\n",
       "      <td>NaN</td>\n",
       "      <td>False</td>\n",
       "      <td>NaN</td>\n",
       "      <td>NaN</td>\n",
       "      <td>NaN</td>\n",
       "    </tr>\n",
       "    <tr>\n",
       "      <th>freq</th>\n",
       "      <td>NaN</td>\n",
       "      <td>1220</td>\n",
       "      <td>31917</td>\n",
       "      <td>47621</td>\n",
       "      <td>NaN</td>\n",
       "      <td>30334</td>\n",
       "      <td>NaN</td>\n",
       "      <td>NaN</td>\n",
       "      <td>NaN</td>\n",
       "    </tr>\n",
       "    <tr>\n",
       "      <th>mean</th>\n",
       "      <td>167295.344477</td>\n",
       "      <td>NaN</td>\n",
       "      <td>NaN</td>\n",
       "      <td>NaN</td>\n",
       "      <td>916535.993002</td>\n",
       "      <td>NaN</td>\n",
       "      <td>16.451245</td>\n",
       "      <td>866.684427</td>\n",
       "      <td>1157.133297</td>\n",
       "    </tr>\n",
       "    <tr>\n",
       "      <th>std</th>\n",
       "      <td>598.883775</td>\n",
       "      <td>NaN</td>\n",
       "      <td>NaN</td>\n",
       "      <td>NaN</td>\n",
       "      <td>21254.123136</td>\n",
       "      <td>NaN</td>\n",
       "      <td>62.917170</td>\n",
       "      <td>3731.791202</td>\n",
       "      <td>4403.468763</td>\n",
       "    </tr>\n",
       "    <tr>\n",
       "      <th>min</th>\n",
       "      <td>166377.000000</td>\n",
       "      <td>NaN</td>\n",
       "      <td>NaN</td>\n",
       "      <td>NaN</td>\n",
       "      <td>879896.000000</td>\n",
       "      <td>NaN</td>\n",
       "      <td>1.000000</td>\n",
       "      <td>0.000000</td>\n",
       "      <td>0.000000</td>\n",
       "    </tr>\n",
       "    <tr>\n",
       "      <th>25%</th>\n",
       "      <td>166782.000000</td>\n",
       "      <td>NaN</td>\n",
       "      <td>NaN</td>\n",
       "      <td>NaN</td>\n",
       "      <td>900788.000000</td>\n",
       "      <td>NaN</td>\n",
       "      <td>1.000000</td>\n",
       "      <td>0.000000</td>\n",
       "      <td>47.000000</td>\n",
       "    </tr>\n",
       "    <tr>\n",
       "      <th>50%</th>\n",
       "      <td>167162.000000</td>\n",
       "      <td>NaN</td>\n",
       "      <td>NaN</td>\n",
       "      <td>NaN</td>\n",
       "      <td>913938.000000</td>\n",
       "      <td>NaN</td>\n",
       "      <td>4.000000</td>\n",
       "      <td>38.000000</td>\n",
       "      <td>210.000000</td>\n",
       "    </tr>\n",
       "    <tr>\n",
       "      <th>75%</th>\n",
       "      <td>167819.000000</td>\n",
       "      <td>NaN</td>\n",
       "      <td>NaN</td>\n",
       "      <td>NaN</td>\n",
       "      <td>937708.000000</td>\n",
       "      <td>NaN</td>\n",
       "      <td>12.000000</td>\n",
       "      <td>572.000000</td>\n",
       "      <td>902.000000</td>\n",
       "    </tr>\n",
       "    <tr>\n",
       "      <th>max</th>\n",
       "      <td>168606.000000</td>\n",
       "      <td>NaN</td>\n",
       "      <td>NaN</td>\n",
       "      <td>NaN</td>\n",
       "      <td>973286.000000</td>\n",
       "      <td>NaN</td>\n",
       "      <td>4817.000000</td>\n",
       "      <td>144395.000000</td>\n",
       "      <td>166155.000000</td>\n",
       "    </tr>\n",
       "  </tbody>\n",
       "</table>\n",
       "</div>"
      ],
      "text/plain": [
       "              user_id                       date direction internal  \\\n",
       "count    53902.000000                      53902     53902    53785   \n",
       "unique            NaN                        119         2        2   \n",
       "top               NaN  2019-11-25 00:00:00+03:00       out    False   \n",
       "freq              NaN                       1220     31917    47621   \n",
       "mean    167295.344477                        NaN       NaN      NaN   \n",
       "std        598.883775                        NaN       NaN      NaN   \n",
       "min     166377.000000                        NaN       NaN      NaN   \n",
       "25%     166782.000000                        NaN       NaN      NaN   \n",
       "50%     167162.000000                        NaN       NaN      NaN   \n",
       "75%     167819.000000                        NaN       NaN      NaN   \n",
       "max     168606.000000                        NaN       NaN      NaN   \n",
       "\n",
       "          operator_id is_missed_call   calls_count  call_duration  \\\n",
       "count    45730.000000          53902  53902.000000   53902.000000   \n",
       "unique            NaN              2           NaN            NaN   \n",
       "top               NaN          False           NaN            NaN   \n",
       "freq              NaN          30334           NaN            NaN   \n",
       "mean    916535.993002            NaN     16.451245     866.684427   \n",
       "std      21254.123136            NaN     62.917170    3731.791202   \n",
       "min     879896.000000            NaN      1.000000       0.000000   \n",
       "25%     900788.000000            NaN      1.000000       0.000000   \n",
       "50%     913938.000000            NaN      4.000000      38.000000   \n",
       "75%     937708.000000            NaN     12.000000     572.000000   \n",
       "max     973286.000000            NaN   4817.000000  144395.000000   \n",
       "\n",
       "        total_call_duration  \n",
       "count          53902.000000  \n",
       "unique                  NaN  \n",
       "top                     NaN  \n",
       "freq                    NaN  \n",
       "mean            1157.133297  \n",
       "std             4403.468763  \n",
       "min                0.000000  \n",
       "25%               47.000000  \n",
       "50%              210.000000  \n",
       "75%              902.000000  \n",
       "max           166155.000000  "
      ]
     },
     "metadata": {},
     "output_type": "display_data"
    },
    {
     "data": {
      "text/plain": [
       "None"
      ]
     },
     "metadata": {},
     "output_type": "display_data"
    },
    {
     "data": {
      "text/plain": [
       "user_id        0\n",
       "tariff_plan    0\n",
       "date_start     0\n",
       "dtype: int64"
      ]
     },
     "metadata": {},
     "output_type": "display_data"
    },
    {
     "data": {
      "text/html": [
       "<div>\n",
       "<style scoped>\n",
       "    .dataframe tbody tr th:only-of-type {\n",
       "        vertical-align: middle;\n",
       "    }\n",
       "\n",
       "    .dataframe tbody tr th {\n",
       "        vertical-align: top;\n",
       "    }\n",
       "\n",
       "    .dataframe thead th {\n",
       "        text-align: right;\n",
       "    }\n",
       "</style>\n",
       "<table border=\"1\" class=\"dataframe\">\n",
       "  <thead>\n",
       "    <tr style=\"text-align: right;\">\n",
       "      <th></th>\n",
       "      <th>user_id</th>\n",
       "      <th>tariff_plan</th>\n",
       "      <th>date_start</th>\n",
       "    </tr>\n",
       "  </thead>\n",
       "  <tbody>\n",
       "    <tr>\n",
       "      <th>count</th>\n",
       "      <td>732.000000</td>\n",
       "      <td>732</td>\n",
       "      <td>732</td>\n",
       "    </tr>\n",
       "    <tr>\n",
       "      <th>unique</th>\n",
       "      <td>NaN</td>\n",
       "      <td>3</td>\n",
       "      <td>73</td>\n",
       "    </tr>\n",
       "    <tr>\n",
       "      <th>top</th>\n",
       "      <td>NaN</td>\n",
       "      <td>C</td>\n",
       "      <td>2019-09-24</td>\n",
       "    </tr>\n",
       "    <tr>\n",
       "      <th>freq</th>\n",
       "      <td>NaN</td>\n",
       "      <td>395</td>\n",
       "      <td>24</td>\n",
       "    </tr>\n",
       "    <tr>\n",
       "      <th>mean</th>\n",
       "      <td>167431.927596</td>\n",
       "      <td>NaN</td>\n",
       "      <td>NaN</td>\n",
       "    </tr>\n",
       "    <tr>\n",
       "      <th>std</th>\n",
       "      <td>633.810383</td>\n",
       "      <td>NaN</td>\n",
       "      <td>NaN</td>\n",
       "    </tr>\n",
       "    <tr>\n",
       "      <th>min</th>\n",
       "      <td>166373.000000</td>\n",
       "      <td>NaN</td>\n",
       "      <td>NaN</td>\n",
       "    </tr>\n",
       "    <tr>\n",
       "      <th>25%</th>\n",
       "      <td>166900.750000</td>\n",
       "      <td>NaN</td>\n",
       "      <td>NaN</td>\n",
       "    </tr>\n",
       "    <tr>\n",
       "      <th>50%</th>\n",
       "      <td>167432.000000</td>\n",
       "      <td>NaN</td>\n",
       "      <td>NaN</td>\n",
       "    </tr>\n",
       "    <tr>\n",
       "      <th>75%</th>\n",
       "      <td>167973.000000</td>\n",
       "      <td>NaN</td>\n",
       "      <td>NaN</td>\n",
       "    </tr>\n",
       "    <tr>\n",
       "      <th>max</th>\n",
       "      <td>168606.000000</td>\n",
       "      <td>NaN</td>\n",
       "      <td>NaN</td>\n",
       "    </tr>\n",
       "  </tbody>\n",
       "</table>\n",
       "</div>"
      ],
      "text/plain": [
       "              user_id tariff_plan  date_start\n",
       "count      732.000000         732         732\n",
       "unique            NaN           3          73\n",
       "top               NaN           C  2019-09-24\n",
       "freq              NaN         395          24\n",
       "mean    167431.927596         NaN         NaN\n",
       "std        633.810383         NaN         NaN\n",
       "min     166373.000000         NaN         NaN\n",
       "25%     166900.750000         NaN         NaN\n",
       "50%     167432.000000         NaN         NaN\n",
       "75%     167973.000000         NaN         NaN\n",
       "max     168606.000000         NaN         NaN"
      ]
     },
     "metadata": {},
     "output_type": "display_data"
    }
   ],
   "source": [
    "# Verificar valores faltantes y tipos de datos en ambos conjuntos de datos\n",
    "\n",
    "clients_info = clients_df.info()\n",
    "telecom_info = telecom_df.info()\n",
    "\n",
    "# Verificar los valores faltantes\n",
    "\n",
    "missing_values_clients = clients_df.isna().sum()\n",
    "missing_values_telecom = telecom_df.isna().sum()\n",
    "\n",
    "# Estadísticas descriptivas para ambos datasets\n",
    "\n",
    "clients_describe = clients_df.describe(include='all')\n",
    "telecom_describe = telecom_df.describe(include='all')\n",
    "\n",
    "display(telecom_info, missing_values_telecom, telecom_describe, clients_info, missing_values_clients, clients_describe)"
   ]
  },
  {
   "cell_type": "markdown",
   "metadata": {},
   "source": [
    "Dataset 'telecom_clients_us.csv':\n",
    "\n",
    "- Tipos de datos:\n",
    "    - user_id: Entero.\n",
    "    - tariff_plan: Cadena de texto.\n",
    "    - date_start: Cadena de texto (necesita conversión a tipo fecha).\n",
    "\n",
    "- Valores faltantes: No hay valores faltantes en este dataset.\n",
    "- Hay 732 clientes.\n",
    "- Tres planes de tarifas diferentes (A, B, C), con el plan C es el más común."
   ]
  },
  {
   "cell_type": "markdown",
   "metadata": {},
   "source": [
    "Dataset 'telecom_dataset_us.csv':\n",
    "\n",
    "- Tipos de datos:\n",
    "    - user_id, calls_count, call_duration, total_call_duration: Enteros.\n",
    "    - date: Cadena de texto (necesita conversión a tipo fecha).\n",
    "    - direction, internal, is_missed_call: Booleanos/Cadena de texto.\n",
    "    - operator_id: Flotante.\n",
    "    \n",
    "- Valores faltantes:\n",
    "    - internal: 117 valores faltantes.\n",
    "    - operator_id: 8172 valores faltantes.\n",
    "\n",
    "- La mayoría de las llamadas son salientes (out).\n",
    "- Hay 45,730 registros con un operator_id válido.\n",
    "- Las llamadas tienen una gran variabilidad en duración (call_duration) y duración total (total_call_duration)."
   ]
  },
  {
   "cell_type": "markdown",
   "metadata": {},
   "source": [
    "### Visualizar la distribución de las llamadas (entrantes y salientes)."
   ]
  },
  {
   "cell_type": "code",
   "execution_count": 5,
   "metadata": {},
   "outputs": [],
   "source": [
    "# Convertir columnas de fecha a formato datetime\n",
    "\n",
    "clients_df['date_start'] = pd.to_datetime(clients_df['date_start'])\n",
    "telecom_df['date'] = pd.to_datetime(telecom_df['date'])"
   ]
  },
  {
   "cell_type": "code",
   "execution_count": 6,
   "metadata": {},
   "outputs": [
    {
     "data": {
      "image/png": "[encoded data removed]",
      "text/plain": [
       "<Figure size 1000x600 with 1 Axes>"
      ]
     },
     "metadata": {},
     "output_type": "display_data"
    }
   ],
   "source": [
    "# Distribución del número de llamadas (calls_count)\n",
    "\n",
    "plt.figure(figsize=(10, 6))\n",
    "plt.hist(telecom_df['calls_count'], bins=50, edgecolor='black')\n",
    "plt.title('Distribución del Número de Llamadas (calls_count)')\n",
    "plt.xlabel('Número de Llamadas')\n",
    "plt.ylabel('Frecuencia')\n",
    "plt.show()"
   ]
  },
  {
   "cell_type": "markdown",
   "metadata": {},
   "source": [
    "- La mayoría de los operadores realizan menos de 50 llamadas, pero hay una larga cola en la distribución con operadores con un número mucho mayor de llamadas, lo que indica que unos pocos operadores manejan un volumen muy alto."
   ]
  },
  {
   "cell_type": "code",
   "execution_count": 7,
   "metadata": {},
   "outputs": [
    {
     "data": {
      "image/png": "[encoded data removed]",
      "text/plain": [
       "<Figure size 1000x600 with 1 Axes>"
      ]
     },
     "metadata": {},
     "output_type": "display_data"
    }
   ],
   "source": [
    "# Distribución de la duración de las llamadas (call_duration)\n",
    "\n",
    "plt.figure(figsize=(10, 6))\n",
    "plt.hist(telecom_df['call_duration'], bins=50, edgecolor='black')\n",
    "plt.title('Distribución de la Duración de las Llamadas (call_duration)')\n",
    "plt.xlabel('Duración de la Llamada (segundos)')\n",
    "plt.ylabel('Frecuencia')\n",
    "plt.show()"
   ]
  },
  {
   "cell_type": "markdown",
   "metadata": {},
   "source": [
    "- La mayoría de las llamadas tienen una duración corta (cerca de 0 segundos), lo que puede indicar llamadas perdidas o muy breves.\n",
    "- También hay una larga cola hacia la derecha, lo que muestra que algunas llamadas tienen duraciones excepcionalmente largas."
   ]
  },
  {
   "cell_type": "code",
   "execution_count": 8,
   "metadata": {
    "scrolled": false
   },
   "outputs": [
    {
     "data": {
      "image/png": "[encoded data removed]",
      "text/plain": [
       "<Figure size 1000x600 with 1 Axes>"
      ]
     },
     "metadata": {},
     "output_type": "display_data"
    }
   ],
   "source": [
    "# Distribución de la duración total de las llamadas (total_call_duration)\n",
    "\n",
    "plt.figure(figsize=(10, 6))\n",
    "plt.hist(telecom_df['total_call_duration'], bins=50, edgecolor='black')\n",
    "plt.title('Distribución de la Duración Total de las Llamadas (total_call_duration)')\n",
    "plt.xlabel('Duración Total de la Llamada (segundos)')\n",
    "plt.ylabel('Frecuencia')\n",
    "plt.show()"
   ]
  },
  {
   "cell_type": "markdown",
   "metadata": {},
   "source": [
    "- Similar a call_duration, pero con más valores altos, lo que sugiere que el tiempo de espera influye significativamente en la duración total."
   ]
  },
  {
   "cell_type": "markdown",
   "metadata": {},
   "source": [
    "### Analizar la distribución de llamadas internas y externas."
   ]
  },
  {
   "cell_type": "code",
   "execution_count": 9,
   "metadata": {},
   "outputs": [],
   "source": [
    "# Crear una tabla de distribución de llamadas internas y externas\n",
    "\n",
    "call_distribution = telecom_df.groupby(['internal', 'direction']).size().reset_index(name='call_count')\n",
    "\n",
    "# Filtrar para llamadas internas y externas separadamente\n",
    "\n",
    "internal_calls = call_distribution[call_distribution['internal'] == True]\n",
    "external_calls = call_distribution[call_distribution['internal'] == False]"
   ]
  },
  {
   "cell_type": "code",
   "execution_count": 10,
   "metadata": {},
   "outputs": [
    {
     "data": {
      "image/png": "[encoded data removed]",
      "text/plain": [
       "<Figure size 1000x600 with 1 Axes>"
      ]
     },
     "metadata": {},
     "output_type": "display_data"
    }
   ],
   "source": [
    "# Gráfico de barras para llamadas internas y externas\n",
    "\n",
    "plt.figure(figsize=(10, 6))\n",
    "plt.bar(internal_calls['direction'], internal_calls['call_count'], alpha=0.5, label='Internas')\n",
    "plt.bar(external_calls['direction'], external_calls['call_count'], alpha=0.5, label='Externas')\n",
    "plt.title('Distribución de Llamadas Internas y Externas por Dirección')\n",
    "plt.xlabel('Dirección de la Llamada')\n",
    "plt.ylabel('Cantidad de Llamadas')\n",
    "plt.legend()\n",
    "plt.show()"
   ]
  },
  {
   "cell_type": "markdown",
   "metadata": {},
   "source": [
    "- Llamadas Internas: Hay más llamadas salientes internas que entrantes internas. Esto podría indicar que los operadores están utilizando las llamadas internas principalmente para la comunicación entre ellos.\n",
    "- Llamadas Externas: Las llamadas externas también son más comunes en la dirección saliente que en la entrante, lo que puede indicar una tendencia a realizar llamadas a clientes."
   ]
  },
  {
   "cell_type": "markdown",
   "metadata": {},
   "source": [
    "### Analizar la correlación entre el número de llamadas perdidas y la duración del tiempo de espera."
   ]
  },
  {
   "cell_type": "code",
   "execution_count": 11,
   "metadata": {},
   "outputs": [],
   "source": [
    "# Crear una tabla de correlación específica para llamadas internas\n",
    "\n",
    "internal_calls_data = telecom_df[telecom_df['internal'] == True].groupby('operator_id').agg({\n",
    "    'is_missed_call': 'mean',  \n",
    "    'total_call_duration': 'mean'  \n",
    "}).reset_index()\n",
    "\n",
    "# Crear una tabla de correlación específica para llamadas externas\n",
    "\n",
    "external_calls_data = telecom_df[telecom_df['internal'] == False].groupby('operator_id').agg({\n",
    "    'is_missed_call': 'mean',  \n",
    "    'total_call_duration': 'mean'\n",
    "}).reset_index()"
   ]
  },
  {
   "cell_type": "code",
   "execution_count": 12,
   "metadata": {},
   "outputs": [
    {
     "data": {
      "text/plain": [
       "(-0.42922582648334684, 0.25409758705190083)"
      ]
     },
     "execution_count": 12,
     "metadata": {},
     "output_type": "execute_result"
    }
   ],
   "source": [
    "# Calcular la correlación para llamadas internas y externas\n",
    "\n",
    "correlation_internal = internal_calls_data['is_missed_call'].corr(internal_calls_data['total_call_duration'])\n",
    "correlation_external = external_calls_data['is_missed_call'].corr(external_calls_data['total_call_duration'])\n",
    "\n",
    "correlation_internal, correlation_external"
   ]
  },
  {
   "cell_type": "markdown",
   "metadata": {},
   "source": [
    "- Llamadas Internas: La correlación entre la proporción de llamadas perdidas y la duración total promedio de las llamadas es de aproximadamente -0.43. Esta correlación negativa indica que, en las llamadas internas, a medida que aumenta el tiempo de espera, la proporción de llamadas perdidas tiende a disminuir. Esto puede ser un indicio de que las llamadas internas no suelen ser perdidas, incluso cuando tienen tiempos de espera largos.\n",
    "\n",
    "\n",
    "- Llamadas Externas: La correlación es de 0.25, lo que indica una correlación positiva débil. Esto significa que para las llamadas externas, a medida que aumenta el tiempo de espera, la proporción de llamadas perdidas también tiende a aumentar ligeramente. Esta relación, aunque no es fuerte, nos indica que los tiempos de espera pueden estar afectando la eficacia en las llamadas externas."
   ]
  },
  {
   "cell_type": "markdown",
   "metadata": {},
   "source": [
    "### Identificar tendencias o patrones que podrían ayudar a identificar operadores ineficaces."
   ]
  },
  {
   "cell_type": "code",
   "execution_count": 13,
   "metadata": {},
   "outputs": [],
   "source": [
    "# Crear un resumen de estadísticas por operador para explorar patrones\n",
    "\n",
    "operator_stats = telecom_df.groupby('operator_id').agg({\n",
    "    'calls_count': 'sum',  \n",
    "    'is_missed_call': 'mean',  \n",
    "    'call_duration': 'mean',  \n",
    "    'total_call_duration': 'mean',  \n",
    "    'direction': lambda x: (x == 'out').sum()  \n",
    "}).reset_index()\n",
    "\n",
    "# Renombrar columnas para mayor claridad\n",
    "\n",
    "operator_stats.columns = ['operator_id', 'total_calls', 'missed_call_rate', 'avg_call_duration', 'avg_total_call_duration', 'outgoing_calls']"
   ]
  },
  {
   "cell_type": "code",
   "execution_count": 14,
   "metadata": {},
   "outputs": [
    {
     "data": {
      "image/png": "[encoded data removed]",
      "text/plain": [
       "<Figure size 1000x600 with 1 Axes>"
      ]
     },
     "metadata": {},
     "output_type": "display_data"
    }
   ],
   "source": [
    "# Visualizar la relación entre la tasa de llamadas perdidas y la duración total promedio de las llamadas\n",
    "\n",
    "plt.figure(figsize=(10, 6))\n",
    "plt.scatter(operator_stats['avg_total_call_duration'], operator_stats['missed_call_rate'], alpha=0.6)\n",
    "plt.title('Relación entre Duración Total Promedio de Llamadas y Tasa de Llamadas Perdidas por Operador')\n",
    "plt.xlabel('Duración Total Promedio de Llamadas (segundos)')\n",
    "plt.ylabel('Proporción de Llamadas Perdidas')\n",
    "plt.grid(True)\n",
    "plt.show()"
   ]
  },
  {
   "cell_type": "markdown",
   "metadata": {},
   "source": [
    "- No parece haber una tendencia lineal clara entre la duración total de la llamada y la tasa de llamadas perdidas. Pero algunos operadores con tiempos de espera muy largos (alta duración total) tienden a tener tasas de llamadas perdidas más bajas.\n",
    "- Podría ser útil investigar si hay factores adicionales que afecten tanto la duración de las llamadas como la tasa de llamadas perdidas."
   ]
  },
  {
   "cell_type": "markdown",
   "metadata": {},
   "source": [
    "### Calcular el número de llamadas realizadas por cada operador que realiza llamadas. "
   ]
  },
  {
   "cell_type": "code",
   "execution_count": 15,
   "metadata": {},
   "outputs": [],
   "source": [
    "# Filtrar llamadas salientes y agrupar por operador\n",
    "\n",
    "outgoing_calls_by_operator = telecom_df[telecom_df['direction'] == 'out'].groupby('operator_id').agg({\n",
    "    'calls_count': 'sum'  \n",
    "}).reset_index()\n",
    "\n",
    "outgoing_calls_by_operator.columns = ['operator_id', 'total_outgoing_calls']"
   ]
  },
  {
   "cell_type": "code",
   "execution_count": 16,
   "metadata": {},
   "outputs": [
    {
     "data": {
      "image/png": "[encoded data removed]",
      "text/plain": [
       "<Figure size 1200x800 with 1 Axes>"
      ]
     },
     "metadata": {},
     "output_type": "display_data"
    }
   ],
   "source": [
    "# Seleccionar los primeros 20 operadores con más llamadas salientes \n",
    "\n",
    "top_outgoing_calls = outgoing_calls_by_operator.sort_values(by='total_outgoing_calls', ascending=False).head(20)\n",
    "\n",
    "# Crear el gráfico\n",
    "\n",
    "plt.figure(figsize=(12, 8))\n",
    "plt.barh(top_outgoing_calls['operator_id'].astype(str), top_outgoing_calls['total_outgoing_calls'], color='skyblue')\n",
    "plt.title('Número de Llamadas Realizadas por los 20 Principales Operadores')\n",
    "plt.xlabel('Número Total de Llamadas Salientes')\n",
    "plt.ylabel('ID del Operador')\n",
    "plt.gca().invert_yaxis() \n",
    "plt.show()"
   ]
  },
  {
   "cell_type": "markdown",
   "metadata": {},
   "source": [
    "- Se observa que algunos operadores manejan un volumen significativamente mayor de llamadas que otros."
   ]
  },
  {
   "cell_type": "markdown",
   "metadata": {},
   "source": [
    "## Paso 3. Identificar operadores ineficaces"
   ]
  },
  {
   "cell_type": "markdown",
   "metadata": {},
   "source": [
    "### Definir criterios de ineficacia."
   ]
  },
  {
   "cell_type": "markdown",
   "metadata": {},
   "source": [
    "Un operador se considera ineficaz si cumple con las siguientes condiciones:\n",
    "\n",
    "1. Alta proporción de llamadas perdidas: Más del 50% de las llamadas del operador son perdidas.\n",
    "2. Tiempo de espera promedio alto: El tiempo de espera promedio (total_call_duration) es mayor a 1000 segundos.\n",
    "3. Bajo número de llamadas salientes: Si el operador debe realizar llamadas salientes, realiza menos de 10 llamadas."
   ]
  },
  {
   "cell_type": "markdown",
   "metadata": {},
   "source": [
    "### Filtrar operadores ineficaces."
   ]
  },
  {
   "cell_type": "code",
   "execution_count": 17,
   "metadata": {},
   "outputs": [
    {
     "data": {
      "text/html": [
       "<div>\n",
       "<style scoped>\n",
       "    .dataframe tbody tr th:only-of-type {\n",
       "        vertical-align: middle;\n",
       "    }\n",
       "\n",
       "    .dataframe tbody tr th {\n",
       "        vertical-align: top;\n",
       "    }\n",
       "\n",
       "    .dataframe thead th {\n",
       "        text-align: right;\n",
       "    }\n",
       "</style>\n",
       "<table border=\"1\" class=\"dataframe\">\n",
       "  <thead>\n",
       "    <tr style=\"text-align: right;\">\n",
       "      <th></th>\n",
       "      <th>operator_id</th>\n",
       "      <th>missed_call_rate</th>\n",
       "      <th>avg_total_call_duration</th>\n",
       "      <th>total_calls</th>\n",
       "      <th>outgoing_calls</th>\n",
       "    </tr>\n",
       "  </thead>\n",
       "  <tbody>\n",
       "    <tr>\n",
       "      <th>574</th>\n",
       "      <td>928518.0</td>\n",
       "      <td>0.571429</td>\n",
       "      <td>2841.571429</td>\n",
       "      <td>337</td>\n",
       "      <td>7</td>\n",
       "    </tr>\n",
       "    <tr>\n",
       "      <th>735</th>\n",
       "      <td>938080.0</td>\n",
       "      <td>0.555556</td>\n",
       "      <td>5400.444444</td>\n",
       "      <td>742</td>\n",
       "      <td>9</td>\n",
       "    </tr>\n",
       "  </tbody>\n",
       "</table>\n",
       "</div>"
      ],
      "text/plain": [
       "     operator_id  missed_call_rate  avg_total_call_duration  total_calls  \\\n",
       "574     928518.0          0.571429              2841.571429          337   \n",
       "735     938080.0          0.555556              5400.444444          742   \n",
       "\n",
       "     outgoing_calls  \n",
       "574               7  \n",
       "735               9  "
      ]
     },
     "execution_count": 17,
     "metadata": {},
     "output_type": "execute_result"
    }
   ],
   "source": [
    "# Calcular métricas en groupby por operador\n",
    "\n",
    "operator_performance = telecom_df.groupby('operator_id').agg({\n",
    "    'is_missed_call': 'mean',  \n",
    "    'total_call_duration': 'mean',  \n",
    "    'calls_count': 'sum',  \n",
    "    'direction': lambda x: (x == 'out').sum()  \n",
    "}).reset_index()\n",
    "\n",
    "# Renombrar columnas\n",
    "\n",
    "operator_performance.columns = ['operator_id', 'missed_call_rate', 'avg_total_call_duration', 'total_calls', 'outgoing_calls']\n",
    "\n",
    "# Definir umbrales para los criterios de ineficacia\n",
    "\n",
    "threshold_missed_calls = 0.5  \n",
    "threshold_avg_duration = 1000  \n",
    "threshold_outgoing_calls = 10  \n",
    "\n",
    "# Filtrar operadores ineficaces que cumplen con todos los criterios\n",
    "\n",
    "inefficient_operators = operator_performance[\n",
    "    (operator_performance['missed_call_rate'] > threshold_missed_calls) &\n",
    "    (operator_performance['avg_total_call_duration'] > threshold_avg_duration) &\n",
    "    (operator_performance['outgoing_calls'] < threshold_outgoing_calls)\n",
    "]\n",
    "\n",
    "inefficient_operators"
   ]
  },
  {
   "cell_type": "markdown",
   "metadata": {},
   "source": [
    "Se identificaron segun los criterios, solamente 2 operadores ineficaces: \n",
    "\n",
    "Operador 928518:\n",
    "\n",
    "- Tiene una tasa de llamadas perdidas de aproximadamente 57.1%, lo que indica que más de la mitad de sus llamadas no son atendidas.\n",
    "- Su tiempo de espera promedio es de 2841 segundos, significativamente alto, lo cual es un indicador de ineficiencia en la gestión de tiempos de espera.\n",
    "- Realiza solo 7 llamadas salientes, lo que sugiere una baja actividad o productividad en la realización de llamadas salientes.\n",
    "\n",
    "\n",
    "Operador 938080:\n",
    "\n",
    "- Presenta una tasa de llamadas perdidas del 55.6%, similar al primer operador, indicando también una alta proporción de llamadas no atendidas.\n",
    "- Su tiempo de espera promedio es aún más alto, con 5400 segundos, lo que es un claro indicador de mala gestión de tiempos de espera.\n",
    "- Realiza 9 llamadas salientes, un número bajo que sugiere ineficiencia en la realización de llamadas salientes."
   ]
  },
  {
   "cell_type": "markdown",
   "metadata": {},
   "source": [
    "## Paso 4. Prueba las hipótesis estadísticas"
   ]
  },
  {
   "cell_type": "markdown",
   "metadata": {},
   "source": [
    "### Formulación de hipótesis."
   ]
  },
  {
   "cell_type": "markdown",
   "metadata": {},
   "source": [
    "Formulación de Hipótesis:\n",
    "\n",
    "- Hipótesis Alternativa (H1): Existe una relación significativa entre la proporción de llamadas perdidas y la duración total promedio de la llamada.\n",
    "- Hipótesis Nula (H0): No existe una relación significativa entre la proporción de llamadas perdidas y la duración total promedio de la llamada."
   ]
  },
  {
   "cell_type": "markdown",
   "metadata": {},
   "source": [
    "### Pruebas estadísticas."
   ]
  },
  {
   "cell_type": "code",
   "execution_count": 18,
   "metadata": {},
   "outputs": [
    {
     "data": {
      "text/plain": [
       "(0.2094461139582405, 2.729553629341756e-12)"
      ]
     },
     "execution_count": 18,
     "metadata": {},
     "output_type": "execute_result"
    }
   ],
   "source": [
    "# Prueba de correlación de Pearson para analizar la relación entre la proporción de llamadas perdidas y la duración total promedio de la llamada\n",
    "\n",
    "corr, p_value = pearsonr(operator_performance['missed_call_rate'], operator_performance['avg_total_call_duration'])\n",
    "\n",
    "inefficient = operator_performance[\n",
    "    (operator_performance['missed_call_rate'] > threshold_missed_calls) &\n",
    "    (operator_performance['avg_total_call_duration'] > threshold_avg_duration) &\n",
    "    (operator_performance['outgoing_calls'] < threshold_outgoing_calls)\n",
    "]\n",
    "\n",
    "efficient = operator_performance[~operator_performance['operator_id'].isin(inefficient['operator_id'])]\n",
    "\n",
    "(corr, p_value)"
   ]
  },
  {
   "cell_type": "markdown",
   "metadata": {},
   "source": [
    "- Coeficiente de Correlación (r): 0.21\n",
    "- Valor p: 2.73e-12\n",
    "- La correlación entre la proporción de llamadas perdidas y la duración total promedio de la llamada es positiva y débil (r = 0.21). Dado el valor p muy bajo (mucho menor que 0.05), podemos rechazar la hipótesis nula y concluir que existe una relación significativa entre estas dos variables."
   ]
  },
  {
   "cell_type": "code",
   "execution_count": 19,
   "metadata": {},
   "outputs": [
    {
     "data": {
      "text/plain": [
       "(23.5805363303604, 0.00011559255304398382)"
      ]
     },
     "execution_count": 19,
     "metadata": {},
     "output_type": "execute_result"
    }
   ],
   "source": [
    "# Prueba t para comparar la tasa de llamadas perdidas entre operadores ineficaces y eficaces\n",
    "\n",
    "t_stat, p_val_ttest = ttest_ind(inefficient['missed_call_rate'], efficient['missed_call_rate'], equal_var=False)\n",
    "\n",
    "(t_stat, p_val_ttest)"
   ]
  },
  {
   "cell_type": "markdown",
   "metadata": {},
   "source": [
    "- Estadístico t (t-stat): 23.58\n",
    "- Valor p: 0.00012\n",
    "- Existe una diferencia significativa en la tasa de llamadas perdidas entre operadores ineficaces y eficaces. El valor p es muy bajo (por debajo de 0.05), lo que nos permite rechazar la hipótesis nula de igualdad de medias."
   ]
  },
  {
   "cell_type": "code",
   "execution_count": 20,
   "metadata": {},
   "outputs": [
    {
     "data": {
      "text/plain": [
       "(2.5486972709813895, 0.2374330700110242)"
      ]
     },
     "execution_count": 20,
     "metadata": {},
     "output_type": "execute_result"
    }
   ],
   "source": [
    "# Prueba t para comparar la duración total promedio de llamadas entre operadores ineficaces y eficaces\n",
    "\n",
    "t_stat_duration, p_val_duration = ttest_ind(inefficient['avg_total_call_duration'], efficient['avg_total_call_duration'], equal_var=False)\n",
    "\n",
    "(t_stat_duration, p_val_duration)"
   ]
  },
  {
   "cell_type": "markdown",
   "metadata": {},
   "source": [
    "- Estadístico t (t-stat): 2.55\n",
    "- Valor p: 0.237\n",
    "- No se encontró una diferencia estadísticamente significativa en la duración total promedio de llamadas entre operadores ineficaces y eficaces. El valor p es superior a 0.05, por lo que no podemos rechazar la hipótesis nula."
   ]
  },
  {
   "cell_type": "markdown",
   "metadata": {},
   "source": [
    "### Interpretación de resultados."
   ]
  },
  {
   "cell_type": "markdown",
   "metadata": {},
   "source": [
    "Relación entre llamadas perdidas y duración total de llamada:\n",
    "\n",
    "- Existe una relación significativa pero débil, lo que sugiere que otros factores pueden influir en la tasa de llamadas perdidas además de la duración de la llamada."
   ]
  },
  {
   "cell_type": "markdown",
   "metadata": {},
   "source": [
    "Diferencias en la tasa de llamadas perdidas: \n",
    "\n",
    "- Los operadores ineficaces tienen significativamente más llamadas perdidas que los eficaces, lo que valida que la proporción de llamadas perdidas es un buen indicador de ineficacia."
   ]
  },
  {
   "cell_type": "markdown",
   "metadata": {},
   "source": [
    "Duración total de las llamadas: \n",
    "\n",
    "- No hay una diferencia significativa en el tiempo de espera promedio entre operadores eficaces e ineficaces, lo que sugiere que este factor puede no ser tan determinante en la ineficacia."
   ]
  },
  {
   "cell_type": "markdown",
   "metadata": {},
   "source": [
    "## Paso 5. Conclusiones y Recomendaciones"
   ]
  },
  {
   "cell_type": "markdown",
   "metadata": {},
   "source": [
    "Conclusiones\n",
    "\n",
    "- El análisis sugiere que la proporción de llamadas perdidas es el factor más relevante para evaluar la ineficacia de los operadores. Los operadores que no responden a más del 50% de sus llamadas representan un problema que debe ser manejado con capacitación o mejoras en los sistemas de distribución de llamadas.\n",
    "\n",
    "- Aunque el tiempo de espera es un factor importante en la satisfacción del cliente, por sí solo no mostró predecir la ineficacia del operador en el análisis. Sin embargo, sigue siendo importante para el rendimiento del operador y la experiencia del cliente, por lo que debe ser monitoreado y mejorado.\n",
    "\n",
    "- El análisis muestra la necesidad de considerar múltiples factores (como la tasa de llamadas perdidas, el volumen de llamadas salientes y el tiempo de espera) en conjunto para tomar decisiones informadas sobre mejoras.\n",
    "\n",
    "Recomendaciones\n",
    "\n",
    "- Para mejorar la eficiencia operativa en CallMeMaybe, es crucial implementar estrategias como la del reentrenamiento de operadores y la optimización de los sistemas de distribución de llamadas.\n",
    "\n",
    "- Incluir más datos sobre el rendimiento de los operadores (métricas de calidad de servicio o retroalimentación de clientes) podría darnos una visión más completa.\n",
    "\n",
    "- Implementar intervenciones basadas en lo encontrado en este análisis y evaluar su impacto en la mejora de la eficiencia del operador.\n",
    "\n",
    "El proyecto ha proporcionado una excelente base para la identificación de operadores ineficaces y ha mostrado cómo los análisis de datos pueden conducir a decisiones estratégicas de importancia para mejorar la eficiencia operativa en la industria de telecomunicaciones."
   ]
  },
  {
   "cell_type": "markdown",
   "metadata": {},
   "source": [
    "# Fuentes de estudio"
   ]
  },
  {
   "cell_type": "markdown",
   "metadata": {},
   "source": [
    "- \"EDA Best Practices: Tips and Tricks for Effective Data Exploration\" (https://medium.com/python-in-plain-english/eda-best-practices-tips-and-tricks-for-effective-data-exploration-371e324fb525)\n",
    "\n",
    "Este artículo brinda directrices útiles sobre cómo estructurar el EDA de manera eficiente, lo que me ayudó a organizar el análisis preliminar, como la detección de valores atípicos y el análisis de correlaciones entre las variables del dataset."
   ]
  },
  {
   "cell_type": "markdown",
   "metadata": {},
   "source": [
    "- \"Delivering The Digital Contact Centre\" (https://www2.deloitte.com/content/dam/Deloitte/uk/Documents/consultancy/deloitte-uk-delivering-the-digital-contact-centre.pdf)\n",
    "\n",
    "Este informe fue útil para comprender las mejores prácticas en el análisis de rendimiento en centros de llamadas y cómo utilizar métricas de desempeño como el tiempo promedio de espera y la tasa de llamadas perdidas para medir la eficacia de los operadores."
   ]
  },
  {
   "cell_type": "markdown",
   "metadata": {},
   "source": [
    "- \"Are You Tracking the Customer Service Metrics That Really Count? (https://hbr.org/2022/05/are-you-tracking-the-customer-service-metrics-that-really-count)\n",
    "\n",
    "Este artículo me ayudó a tener más claras las métricas clave de ineficacia, como la tasa de llamadas perdidas y los tiempos de espera, y a justificar por qué son indicadores críticos para evaluar la eficiencia del servicio al cliente."
   ]
  },
  {
   "cell_type": "markdown",
   "metadata": {},
   "source": [
    "- Pandas Documentation (https://pandas.pydata.org/)\n",
    "\n",
    "En general Pandas Documentation me ayudó a realizar la mayoría de las tareas de este proyecto. La página era consultada constantemente para poder hacer funcionar el código u optimizarlo utilizando soluciones alternativas. Es la principal fuente de consulta para los usuarios de python que analizan datos."
   ]
  },
  {
   "cell_type": "markdown",
   "metadata": {},
   "source": [
    "- Matplotlib Documentation (https://matplotlib.org/)\n",
    "\n",
    "El paquete de Matplotlib fue fundamental para crear los gráficos de este proyecto por lo que la consulta de su documentación fue definitivamente critica para su culminación ya que los gráficos cuentan con muchos atributos que pueden ser muy confusos de memorizar."
   ]
  },
  {
   "cell_type": "markdown",
   "metadata": {},
   "source": [
    "- SciPy Documentation (https://docs.scipy.org/doc/scipy/)\n",
    "\n",
    "SciPy fue utilizado para realizar la prueba de correlación de Pearson y las pruebas t de Student. Este análisis estadístico fue clave para confirmar o rechazar hipótesis. La consulta de su documentación fue muy importante ya que nunca habia realizado una prueba de correlación con ese nivel de complejidad."
   ]
  }
 ],
 "metadata": {
  "ExecuteTimeLog": [
   {
    "duration": 325,
    "start_time": "2024-09-16T08:18:11.636Z"
   },
   {
    "duration": 2,
    "start_time": "2024-09-16T08:18:59.841Z"
   },
   {
    "duration": 175,
    "start_time": "2024-09-16T08:20:43.784Z"
   },
   {
    "duration": 342,
    "start_time": "2024-09-16T08:20:50.971Z"
   },
   {
    "duration": 73,
    "start_time": "2024-09-16T08:21:16.550Z"
   },
   {
    "duration": 10,
    "start_time": "2024-09-16T08:21:20.349Z"
   },
   {
    "duration": 13,
    "start_time": "2024-09-16T08:21:36.644Z"
   },
   {
    "duration": 63,
    "start_time": "2024-09-16T08:22:40.819Z"
   },
   {
    "duration": 69,
    "start_time": "2024-09-16T08:23:23.138Z"
   },
   {
    "duration": 2235,
    "start_time": "2024-09-17T06:27:39.456Z"
   },
   {
    "duration": 240,
    "start_time": "2024-09-17T06:30:31.602Z"
   },
   {
    "duration": 460,
    "start_time": "2024-09-17T06:31:00.816Z"
   },
   {
    "duration": 120,
    "start_time": "2024-09-17T06:31:01.279Z"
   },
   {
    "duration": 14,
    "start_time": "2024-09-17T06:31:01.401Z"
   },
   {
    "duration": 93,
    "start_time": "2024-09-17T06:31:01.416Z"
   },
   {
    "duration": 11,
    "start_time": "2024-09-17T06:31:01.511Z"
   },
   {
    "duration": 180,
    "start_time": "2024-09-17T06:31:01.523Z"
   },
   {
    "duration": 173,
    "start_time": "2024-09-17T06:31:01.708Z"
   },
   {
    "duration": 173,
    "start_time": "2024-09-17T06:31:01.883Z"
   },
   {
    "duration": 136,
    "start_time": "2024-09-17T06:31:20.747Z"
   },
   {
    "duration": 203,
    "start_time": "2024-09-17T06:31:36.818Z"
   },
   {
    "duration": 823,
    "start_time": "2024-09-17T06:32:11.290Z"
   },
   {
    "duration": 163,
    "start_time": "2024-09-17T06:33:27.920Z"
   },
   {
    "duration": 12,
    "start_time": "2024-09-17T06:40:07.928Z"
   },
   {
    "duration": 147,
    "start_time": "2024-09-17T06:48:30.197Z"
   },
   {
    "duration": 13,
    "start_time": "2024-09-17T06:50:32.558Z"
   },
   {
    "duration": 124,
    "start_time": "2024-09-17T06:50:48.513Z"
   },
   {
    "duration": 21,
    "start_time": "2024-09-17T06:55:03.651Z"
   },
   {
    "duration": 20,
    "start_time": "2024-09-17T06:57:08.950Z"
   },
   {
    "duration": 9,
    "start_time": "2024-09-17T06:57:11.388Z"
   },
   {
    "duration": 130,
    "start_time": "2024-09-17T07:02:24.274Z"
   },
   {
    "duration": 176,
    "start_time": "2024-09-17T07:02:46.753Z"
   },
   {
    "duration": 293,
    "start_time": "2024-09-17T07:05:17.206Z"
   },
   {
    "duration": 14,
    "start_time": "2024-09-17T07:08:02.803Z"
   },
   {
    "duration": 17,
    "start_time": "2024-09-17T07:12:59.251Z"
   },
   {
    "duration": 24,
    "start_time": "2024-09-17T07:15:03.225Z"
   },
   {
    "duration": 17,
    "start_time": "2024-09-17T07:15:34.008Z"
   },
   {
    "duration": 18,
    "start_time": "2024-09-17T07:15:39.623Z"
   },
   {
    "duration": 17,
    "start_time": "2024-09-17T07:16:00.575Z"
   },
   {
    "duration": 11,
    "start_time": "2024-09-17T07:16:14.415Z"
   },
   {
    "duration": 213,
    "start_time": "2024-09-17T07:17:11.510Z"
   },
   {
    "duration": 6,
    "start_time": "2024-09-17T07:19:14.323Z"
   },
   {
    "duration": 141,
    "start_time": "2024-09-17T07:26:05.050Z"
   },
   {
    "duration": 9,
    "start_time": "2024-09-17T07:28:11.882Z"
   },
   {
    "duration": 770,
    "start_time": "2024-09-18T04:26:29.051Z"
   },
   {
    "duration": 2130,
    "start_time": "2024-09-18T04:26:40.678Z"
   },
   {
    "duration": 84,
    "start_time": "2024-09-18T04:26:42.810Z"
   },
   {
    "duration": 16,
    "start_time": "2024-09-18T04:26:42.895Z"
   },
   {
    "duration": 80,
    "start_time": "2024-09-18T04:26:42.913Z"
   },
   {
    "duration": 11,
    "start_time": "2024-09-18T04:26:42.994Z"
   },
   {
    "duration": 178,
    "start_time": "2024-09-18T04:26:43.007Z"
   },
   {
    "duration": 179,
    "start_time": "2024-09-18T04:26:43.186Z"
   },
   {
    "duration": 166,
    "start_time": "2024-09-18T04:26:43.367Z"
   },
   {
    "duration": 15,
    "start_time": "2024-09-18T04:26:43.534Z"
   },
   {
    "duration": 164,
    "start_time": "2024-09-18T04:26:43.552Z"
   },
   {
    "duration": 26,
    "start_time": "2024-09-18T04:26:43.718Z"
   },
   {
    "duration": 5,
    "start_time": "2024-09-18T04:26:43.745Z"
   },
   {
    "duration": 138,
    "start_time": "2024-09-18T04:26:43.752Z"
   },
   {
    "duration": 180,
    "start_time": "2024-09-18T04:26:43.892Z"
   },
   {
    "duration": 10,
    "start_time": "2024-09-18T04:26:44.073Z"
   },
   {
    "duration": 197,
    "start_time": "2024-09-18T04:26:44.085Z"
   },
   {
    "duration": 142,
    "start_time": "2024-09-18T04:26:44.285Z"
   },
   {
    "duration": 325,
    "start_time": "2024-09-18T04:26:44.429Z"
   },
   {
    "duration": 3,
    "start_time": "2024-09-18T04:27:17.475Z"
   },
   {
    "duration": 10,
    "start_time": "2024-09-18T04:29:49.093Z"
   },
   {
    "duration": 4,
    "start_time": "2024-09-18T04:30:10.162Z"
   },
   {
    "duration": 4,
    "start_time": "2024-09-18T04:30:18.111Z"
   },
   {
    "duration": 8,
    "start_time": "2024-09-18T04:37:28.076Z"
   },
   {
    "duration": 773,
    "start_time": "2024-09-18T05:14:21.350Z"
   },
   {
    "duration": 42,
    "start_time": "2024-09-18T05:14:22.126Z"
   },
   {
    "duration": 14,
    "start_time": "2024-09-18T05:14:22.170Z"
   },
   {
    "duration": 91,
    "start_time": "2024-09-18T05:14:22.186Z"
   },
   {
    "duration": 11,
    "start_time": "2024-09-18T05:14:22.278Z"
   },
   {
    "duration": 179,
    "start_time": "2024-09-18T05:14:22.291Z"
   },
   {
    "duration": 173,
    "start_time": "2024-09-18T05:14:22.472Z"
   },
   {
    "duration": 163,
    "start_time": "2024-09-18T05:14:22.649Z"
   },
   {
    "duration": 12,
    "start_time": "2024-09-18T05:14:22.814Z"
   },
   {
    "duration": 138,
    "start_time": "2024-09-18T05:14:22.829Z"
   },
   {
    "duration": 18,
    "start_time": "2024-09-18T05:14:22.970Z"
   },
   {
    "duration": 5,
    "start_time": "2024-09-18T05:14:22.990Z"
   },
   {
    "duration": 208,
    "start_time": "2024-09-18T05:14:22.996Z"
   },
   {
    "duration": 173,
    "start_time": "2024-09-18T05:14:23.206Z"
   },
   {
    "duration": 10,
    "start_time": "2024-09-18T05:14:23.381Z"
   },
   {
    "duration": 195,
    "start_time": "2024-09-18T05:14:23.393Z"
   },
   {
    "duration": 141,
    "start_time": "2024-09-18T05:14:23.590Z"
   },
   {
    "duration": 12,
    "start_time": "2024-09-18T05:14:23.732Z"
   },
   {
    "duration": 5,
    "start_time": "2024-09-18T05:14:23.746Z"
   },
   {
    "duration": 4,
    "start_time": "2024-09-18T05:14:23.753Z"
   },
   {
    "duration": 119,
    "start_time": "2024-09-18T05:18:16.172Z"
   },
   {
    "duration": 131,
    "start_time": "2024-09-18T05:18:25.914Z"
   },
   {
    "duration": 124,
    "start_time": "2024-09-18T05:18:43.186Z"
   },
   {
    "duration": 2572,
    "start_time": "2024-09-19T02:40:22.035Z"
   },
   {
    "duration": 81,
    "start_time": "2024-09-19T02:40:24.609Z"
   },
   {
    "duration": 17,
    "start_time": "2024-09-19T02:40:24.693Z"
   },
   {
    "duration": 115,
    "start_time": "2024-09-19T02:40:24.712Z"
   },
   {
    "duration": 13,
    "start_time": "2024-09-19T02:40:24.832Z"
   },
   {
    "duration": 219,
    "start_time": "2024-09-19T02:40:24.849Z"
   },
   {
    "duration": 179,
    "start_time": "2024-09-19T02:40:25.070Z"
   },
   {
    "duration": 165,
    "start_time": "2024-09-19T02:40:25.251Z"
   },
   {
    "duration": 15,
    "start_time": "2024-09-19T02:40:25.417Z"
   },
   {
    "duration": 159,
    "start_time": "2024-09-19T02:40:25.434Z"
   },
   {
    "duration": 20,
    "start_time": "2024-09-19T02:40:25.595Z"
   },
   {
    "duration": 6,
    "start_time": "2024-09-19T02:40:25.618Z"
   },
   {
    "duration": 157,
    "start_time": "2024-09-19T02:40:25.626Z"
   },
   {
    "duration": 235,
    "start_time": "2024-09-19T02:40:25.788Z"
   },
   {
    "duration": 15,
    "start_time": "2024-09-19T02:40:26.025Z"
   },
   {
    "duration": 202,
    "start_time": "2024-09-19T02:40:26.043Z"
   },
   {
    "duration": 152,
    "start_time": "2024-09-19T02:40:26.247Z"
   },
   {
    "duration": 95,
    "start_time": "2024-09-19T02:40:26.402Z"
   },
   {
    "duration": 7,
    "start_time": "2024-09-19T02:40:26.500Z"
   },
   {
    "duration": 4,
    "start_time": "2024-09-19T02:40:26.509Z"
   },
   {
    "duration": 61,
    "start_time": "2024-09-19T02:54:40.658Z"
   },
   {
    "duration": 13,
    "start_time": "2024-09-19T02:55:34.406Z"
   },
   {
    "duration": 758,
    "start_time": "2024-09-19T02:56:43.252Z"
   },
   {
    "duration": 41,
    "start_time": "2024-09-19T02:56:44.013Z"
   },
   {
    "duration": 14,
    "start_time": "2024-09-19T02:56:44.056Z"
   },
   {
    "duration": 65,
    "start_time": "2024-09-19T02:56:44.087Z"
   },
   {
    "duration": 14,
    "start_time": "2024-09-19T02:56:44.155Z"
   },
   {
    "duration": 10,
    "start_time": "2024-09-19T02:56:44.188Z"
   },
   {
    "duration": 180,
    "start_time": "2024-09-19T02:56:44.200Z"
   },
   {
    "duration": 174,
    "start_time": "2024-09-19T02:56:44.382Z"
   },
   {
    "duration": 166,
    "start_time": "2024-09-19T02:56:44.558Z"
   },
   {
    "duration": 11,
    "start_time": "2024-09-19T02:56:44.726Z"
   },
   {
    "duration": 136,
    "start_time": "2024-09-19T02:56:44.739Z"
   },
   {
    "duration": 24,
    "start_time": "2024-09-19T02:56:44.879Z"
   },
   {
    "duration": 6,
    "start_time": "2024-09-19T02:56:44.905Z"
   },
   {
    "duration": 161,
    "start_time": "2024-09-19T02:56:44.914Z"
   },
   {
    "duration": 230,
    "start_time": "2024-09-19T02:56:45.077Z"
   },
   {
    "duration": 10,
    "start_time": "2024-09-19T02:56:45.309Z"
   },
   {
    "duration": 199,
    "start_time": "2024-09-19T02:56:45.320Z"
   },
   {
    "duration": 143,
    "start_time": "2024-09-19T02:56:45.521Z"
   },
   {
    "duration": 8,
    "start_time": "2024-09-19T02:56:45.666Z"
   },
   {
    "duration": 4,
    "start_time": "2024-09-19T02:56:45.687Z"
   },
   {
    "duration": 5,
    "start_time": "2024-09-19T02:56:45.693Z"
   },
   {
    "duration": 58,
    "start_time": "2024-09-19T02:57:21.682Z"
   },
   {
    "duration": 53,
    "start_time": "2024-09-19T02:57:44.430Z"
   },
   {
    "duration": 63,
    "start_time": "2024-09-19T02:58:01.450Z"
   },
   {
    "duration": 54,
    "start_time": "2024-09-19T02:59:38.932Z"
   },
   {
    "duration": 66,
    "start_time": "2024-09-19T03:01:22.327Z"
   },
   {
    "duration": 820,
    "start_time": "2024-09-19T03:02:20.905Z"
   },
   {
    "duration": 39,
    "start_time": "2024-09-19T03:02:21.728Z"
   },
   {
    "duration": 19,
    "start_time": "2024-09-19T03:02:21.769Z"
   },
   {
    "duration": 75,
    "start_time": "2024-09-19T03:02:21.790Z"
   },
   {
    "duration": 11,
    "start_time": "2024-09-19T03:02:21.888Z"
   },
   {
    "duration": 173,
    "start_time": "2024-09-19T03:02:21.900Z"
   },
   {
    "duration": 172,
    "start_time": "2024-09-19T03:02:22.075Z"
   },
   {
    "duration": 169,
    "start_time": "2024-09-19T03:02:22.249Z"
   },
   {
    "duration": 10,
    "start_time": "2024-09-19T03:02:22.420Z"
   },
   {
    "duration": 131,
    "start_time": "2024-09-19T03:02:22.432Z"
   },
   {
    "duration": 21,
    "start_time": "2024-09-19T03:02:22.566Z"
   },
   {
    "duration": 6,
    "start_time": "2024-09-19T03:02:22.589Z"
   },
   {
    "duration": 204,
    "start_time": "2024-09-19T03:02:22.597Z"
   },
   {
    "duration": 171,
    "start_time": "2024-09-19T03:02:22.804Z"
   },
   {
    "duration": 10,
    "start_time": "2024-09-19T03:02:22.977Z"
   },
   {
    "duration": 223,
    "start_time": "2024-09-19T03:02:22.989Z"
   },
   {
    "duration": 142,
    "start_time": "2024-09-19T03:02:23.214Z"
   },
   {
    "duration": 7,
    "start_time": "2024-09-19T03:02:23.358Z"
   },
   {
    "duration": 5,
    "start_time": "2024-09-19T03:02:23.367Z"
   },
   {
    "duration": 12,
    "start_time": "2024-09-19T03:02:23.387Z"
   }
  ],
  "kernelspec": {
   "display_name": "Python 3 (ipykernel)",
   "language": "python",
   "name": "python3"
  },
  "language_info": {
   "codemirror_mode": {
    "name": "ipython",
    "version": 3
   },
   "file_extension": ".py",
   "mimetype": "text/x-python",
   "name": "python",
   "nbconvert_exporter": "python",
   "pygments_lexer": "ipython3",
   "version": "3.9.19"
  },
  "toc": {
   "base_numbering": 1,
   "nav_menu": {},
   "number_sections": true,
   "sideBar": true,
   "skip_h1_title": true,
   "title_cell": "Table of Contents",
   "title_sidebar": "Contents",
   "toc_cell": false,
   "toc_position": {
    "height": "calc(100% - 180px)",
    "left": "10px",
    "top": "150px",
    "width": "322.797px"
   },
   "toc_section_display": true,
   "toc_window_display": true
  }
 },
 "nbformat": 4,
 "nbformat_minor": 2
}
